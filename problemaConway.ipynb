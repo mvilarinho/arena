{
 "cells": [
  {
   "cell_type": "markdown",
   "metadata": {},
   "source": [
    "<img src=\"https://download.pearltrees.com/s/pic/or/-225712643?pearlId=316901342\" width=\"400\" height=\"400\" />"
   ]
  },
  {
   "cell_type": "code",
   "execution_count": 184,
   "metadata": {},
   "outputs": [
    {
     "data": {
      "text/plain": [
       "40320"
      ]
     },
     "execution_count": 184,
     "metadata": {},
     "output_type": "execute_result"
    }
   ],
   "source": [
    "import numpy as np\n",
    "import time\n",
    "listaD=[1,2,3,4,6,7,8,9] #J=0 -> E=5\n",
    "np.math.factorial(8) # posibles candidatos"
   ]
  },
  {
   "cell_type": "code",
   "execution_count": 185,
   "metadata": {},
   "outputs": [
    {
     "name": "stdout",
     "output_type": "stream",
     "text": [
      "1 divisible por 1 ?\n",
      "12 divisible por 2 ?\n",
      "123 divisible por 3 ?\n",
      "1234 divisible por 4 ?\n",
      "12345 divisible por 5 ?\n",
      "123456 divisible por 6 ?\n",
      "1234567 divisible por 7 ?\n",
      "12345678 divisible por 8 ?\n",
      "123456789 divisible por 9 ?\n",
      "1234567890 divisible por 10 ?\n"
     ]
    }
   ],
   "source": [
    "x=1234567890\n",
    "for i in range(1,11):\n",
    "    print(int(x/10**(10-i)),\"divisible por\",i,\"?\")"
   ]
  },
  {
   "cell_type": "code",
   "execution_count": 186,
   "metadata": {},
   "outputs": [
    {
     "data": {
      "text/plain": [
       "True"
      ]
     },
     "execution_count": 186,
     "metadata": {},
     "output_type": "execute_result"
    }
   ],
   "source": [
    "def condicion(x,n):\n",
    "    for i in range(1,n+1):\n",
    "        if int(x/10**(n-i))%(i)!=0:\n",
    "            return False\n",
    "    return True\n",
    "condicion(2496,4)"
   ]
  },
  {
   "cell_type": "code",
   "execution_count": 224,
   "metadata": {},
   "outputs": [
    {
     "name": "stdout",
     "output_type": "stream",
     "text": [
      "3816547290 0.46 s\n"
     ]
    }
   ],
   "source": [
    "#ABCDEFGHIJ\n",
    "done=False\n",
    "start=time.time()\n",
    "while not done:\n",
    "    candidato=np.random.permutation(listaD)\n",
    "    num=0+candidato[7]*10+candidato[6]*10**2+candidato[5]*10**3\n",
    "    num+=candidato[4]*10**4+5*10**5+candidato[3]*10**6+candidato[2]*10**7\n",
    "    num+=candidato[1]*10**8+candidato[0]*10**9\n",
    "    done=condicion(num,10)\n",
    "print(num,\"{:.2f}\".format(time.time()-start)+\" s\")"
   ]
  },
  {
   "cell_type": "code",
   "execution_count": 231,
   "metadata": {},
   "outputs": [],
   "source": [
    "listaTime=[]\n",
    "for _ in range(1000):\n",
    "    #ABCDEFGHIJ\n",
    "    done=False\n",
    "    start=time.time()\n",
    "    while not done:\n",
    "        candidato=np.random.permutation(listaD)\n",
    "        num=0+candidato[7]*10+candidato[6]*10**2+candidato[5]*10**3\n",
    "        num+=candidato[4]*10**4+5*10**5+candidato[3]*10**6+candidato[2]*10**7\n",
    "        num+=candidato[1]*10**8+candidato[0]*10**9\n",
    "        done=condicion(num,10)\n",
    "    #print(num,\"{:.2f}\".format(time.time()-start)+\" s\")\n",
    "    listaTime.append(time.time()-start)\n"
   ]
  },
  {
   "cell_type": "code",
   "execution_count": 232,
   "metadata": {},
   "outputs": [
    {
     "name": "stdout",
     "output_type": "stream",
     "text": [
      "2.487152099609375\n"
     ]
    }
   ],
   "source": [
    "print(max(listaTime))"
   ]
  },
  {
   "cell_type": "code",
   "execution_count": 235,
   "metadata": {},
   "outputs": [
    {
     "data": {
      "text/plain": [
       "(array([779., 163.,  40.,  14.,   4.]),\n",
       " array([0. , 0.5, 1. , 1.5, 2. , 2.5]),\n",
       " <a list of 5 Patch objects>)"
      ]
     },
     "execution_count": 235,
     "metadata": {},
     "output_type": "execute_result"
    },
    {
     "data": {
      "image/png": "[encoded data removed]",
      "text/plain": [
       "<Figure size 432x288 with 1 Axes>"
      ]
     },
     "metadata": {
      "needs_background": "light"
     },
     "output_type": "display_data"
    }
   ],
   "source": [
    "import matplotlib.pyplot as plt\n",
    "a,bins=np.histogram(listaTime,bins=[0,0.5,1,1.5,2,2.5])\n",
    "plt.hist(bins[:-1], bins, weights=a)"
   ]
  }
 ],
 "metadata": {
  "kernelspec": {
   "display_name": "Python 3",
   "language": "python",
   "name": "python3"
  },
  "language_info": {
   "codemirror_mode": {
    "name": "ipython",
    "version": 3
   },
   "file_extension": ".py",
   "mimetype": "text/x-python",
   "name": "python",
   "nbconvert_exporter": "python",
   "pygments_lexer": "ipython3",
   "version": "3.6.9"
  }
 },
 "nbformat": 4,
 "nbformat_minor": 4
}
